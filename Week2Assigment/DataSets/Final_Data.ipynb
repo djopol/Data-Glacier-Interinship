{
 "cells": [
  {
   "cell_type": "markdown",
   "metadata": {},
   "source": [
    "Importing data files into python "
   ]
  },
  {
   "cell_type": "code",
   "execution_count": 12,
   "metadata": {},
   "outputs": [
    {
     "name": "stdout",
     "output_type": "stream",
     "text": [
      "       Customer ID  Gender  Age  Income (USD/Month)  Transaction ID  \\\n",
      "0            29290    Male   28               10813        10000011   \n",
      "0            29290    Male   28               10813        10351127   \n",
      "0            29290    Male   28               10813        10412921   \n",
      "1            27703    Male   27                9237        10000012   \n",
      "1            27703    Male   27                9237        10320494   \n",
      "...            ...     ...  ...                 ...             ...   \n",
      "49166        12490    Male   33               18713        10439799   \n",
      "49167        14971    Male   30               15346        10439820   \n",
      "49168        41414    Male   38                3960        10439838   \n",
      "49169        41677    Male   23               19454        10439840   \n",
      "49170        39761  Female   32               10128        10439846   \n",
      "\n",
      "      Payment_Mode  \n",
      "0             Card  \n",
      "0             Cash  \n",
      "0             Card  \n",
      "1             Card  \n",
      "1             Card  \n",
      "...            ...  \n",
      "49166         Cash  \n",
      "49167         Card  \n",
      "49168         Card  \n",
      "49169         Cash  \n",
      "49170         Card  \n",
      "\n",
      "[440098 rows x 6 columns]\n"
     ]
    }
   ],
   "source": [
    "import pandas as pd\n",
    "df = pd.read_csv(\"cab_Data.csv\")\n",
    "city= pd.read_csv(\"City.csv\")\n",
    "cust=pd.read_csv('Customer_ID.csv')\n",
    "trans= pd.read_csv('Transaction_ID.csv')\n",
    "Fd=cust.join(trans.set_index('Customer ID'), on=\"Customer ID\")\n",
    "print(Fd)"
   ]
  }
 ],
 "metadata": {
  "interpreter": {
   "hash": "ea2978f210cb6e7b944683fc685c0945b3d580e968049b908e6fdbcd345d7554"
  },
  "kernelspec": {
   "display_name": "Python 3.9.6 64-bit",
   "language": "python",
   "name": "python3"
  },
  "language_info": {
   "codemirror_mode": {
    "name": "ipython",
    "version": 3
   },
   "file_extension": ".py",
   "mimetype": "text/x-python",
   "name": "python",
   "nbconvert_exporter": "python",
   "pygments_lexer": "ipython3",
   "version": "3.9.6"
  },
  "orig_nbformat": 4
 },
 "nbformat": 4,
 "nbformat_minor": 2
}
